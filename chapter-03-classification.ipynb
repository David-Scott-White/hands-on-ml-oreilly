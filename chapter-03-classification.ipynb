{
 "cells": [
  {
   "cell_type": "markdown",
   "metadata": {},
   "source": [
    "# MNIST-Classification\n",
    "\n",
    "David S. White\n",
    "\n",
    "2020-05-18\n",
    "\n",
    "**Goal:** Classify handwritten digits of the MNIST dataset\n",
    "\n",
    "Adapted from Chapter 3 of \"Hands on Machine Learning w/ Scikit-Learn and TensorFlow by Aurelien Geron\" (O'Reilly)"
   ]
  },
  {
   "cell_type": "markdown",
   "metadata": {},
   "source": [
    "### Libraries "
   ]
  },
  {
   "cell_type": "code",
   "execution_count": 1,
   "metadata": {},
   "outputs": [],
   "source": [
    "import numpy as np\n",
    "import seaborn as sns\n",
    "import matplotlib.pyplot as plt\n",
    "\n",
    "# seaborn style \n",
    "sns.set()"
   ]
  },
  {
   "cell_type": "markdown",
   "metadata": {},
   "source": [
    "### Load MNIST dataset from sklearn\n",
    "* This dataset contains 7000 images each composed of 784 features (28x28 pixels)\n",
    "* Digits range from 0 to 9"
   ]
  },
  {
   "cell_type": "code",
   "execution_count": 2,
   "metadata": {},
   "outputs": [],
   "source": [
    "from sklearn.datasets import fetch_openml\n",
    "mnist = fetch_openml('mnist_784', version=1, cache=True)\n",
    "mnist.target = mnist.target.astype(np.int8)\n",
    "X, y = mnist[\"data\"], mnist[\"target\"]"
   ]
  },
  {
   "cell_type": "code",
   "execution_count": 3,
   "metadata": {},
   "outputs": [
    {
     "name": "stdout",
     "output_type": "stream",
     "text": [
      "Shape of X:  (70000, 784)\n",
      "Shape of y:  (70000,)\n"
     ]
    }
   ],
   "source": [
    "print('Shape of X: ', np.shape(X))\n",
    "print('Shape of y: ', np.shape(y))"
   ]
  },
  {
   "cell_type": "markdown",
   "metadata": {},
   "source": [
    "### Split Data into Training & Test Sets\n",
    "* shuffle data  \n",
    "* split 80/20 train/test"
   ]
  },
  {
   "cell_type": "code",
   "execution_count": 4,
   "metadata": {},
   "outputs": [],
   "source": [
    "# Shuffle data with permutation\n",
    "from sklearn.utils import check_random_state\n",
    "random_state = check_random_state(42)\n",
    "permutation = random_state.permutation(X.shape[0])\n",
    "X = X[permutation]\n",
    "y = y[permutation]\n",
    "X = X.reshape((X.shape[0], -1))"
   ]
  },
  {
   "cell_type": "code",
   "execution_count": 5,
   "metadata": {},
   "outputs": [],
   "source": [
    "# split into test and train sets\n",
    "from sklearn.model_selection import train_test_split\n",
    "\n",
    "test_percent = 0.2\n",
    "test_set_size = int(test_percent*X.shape[0])\n",
    "num_test = int(test_percent*X.shape[0])\n",
    "num_train = int((1-test_percent)*X.shape[0])\n",
    "\n",
    "X_train, X_test, y_train, y_test = train_test_split(\n",
    "    X, y, train_size=num_train, test_size=num_test)"
   ]
  },
  {
   "cell_type": "code",
   "execution_count": 6,
   "metadata": {},
   "outputs": [],
   "source": [
    "# standardize the training data \n",
    "from sklearn.preprocessing import StandardScaler \n",
    "scaler = StandardScaler()\n",
    "X_train = scaler.fit_transform(X_train.astype(np.float64))"
   ]
  },
  {
   "cell_type": "markdown",
   "metadata": {},
   "source": [
    "### Plot a random image"
   ]
  },
  {
   "cell_type": "code",
   "execution_count": 7,
   "metadata": {},
   "outputs": [],
   "source": [
    "def plotImage(X, rand_idx=[]):\n",
    "    if not rand_idx:\n",
    "        import random \n",
    "        rand_idx = random.randint(0,X.shape[0])\n",
    "    rand_img = X[rand_idx]\n",
    "    rand_img_show = rand_img.reshape(28,28)\n",
    "    plt.imshow(rand_img_show, cmap=plt.cm.binary, interpolation=\"nearest\")\n",
    "    plt.axis('off')\n",
    "    plt.show()\n",
    "    \n",
    "    return rand_idx"
   ]
  },
  {
   "cell_type": "code",
   "execution_count": 8,
   "metadata": {},
   "outputs": [
    {
     "data": {
      "image/png": "[encoded data removed]",
      "text/plain": [
       "<Figure size 432x288 with 1 Axes>"
      ]
     },
     "metadata": {},
     "output_type": "display_data"
    },
    {
     "name": "stdout",
     "output_type": "stream",
     "text": [
      "True Value: 3\n"
     ]
    }
   ],
   "source": [
    "rand_idx = plotImage(X, rand_idx=10)\n",
    "rand_int = y[rand_idx]\n",
    "print('True Value:', rand_int)"
   ]
  },
  {
   "cell_type": "markdown",
   "metadata": {},
   "source": [
    "## Train a Binary Classifier: \n",
    "### Method 1: Stochastic Gradient Descent\n",
    "Should be able to train the classifier quickly and is a good place to start."
   ]
  },
  {
   "cell_type": "code",
   "execution_count": 9,
   "metadata": {},
   "outputs": [],
   "source": [
    "y_train_rnd = (y_train == rand_int)\n",
    "y_test_rnd = (y_test == rand_int)"
   ]
  },
  {
   "cell_type": "code",
   "execution_count": 10,
   "metadata": {},
   "outputs": [
    {
     "data": {
      "text/plain": [
       "SGDClassifier(alpha=0.0001, average=False, class_weight=None,\n",
       "              early_stopping=False, epsilon=0.1, eta0=0.0, fit_intercept=True,\n",
       "              l1_ratio=0.15, learning_rate='optimal', loss='hinge',\n",
       "              max_iter=1000, n_iter_no_change=5, n_jobs=None, penalty='l2',\n",
       "              power_t=0.5, random_state=42, shuffle=True, tol=0.001,\n",
       "              validation_fraction=0.1, verbose=0, warm_start=False)"
      ]
     },
     "execution_count": 10,
     "metadata": {},
     "output_type": "execute_result"
    }
   ],
   "source": [
    "from sklearn.linear_model import SGDClassifier\n",
    "\n",
    "sgd_clf = SGDClassifier(random_state=42)\n",
    "sgd_clf.fit(X_train, y_train_rnd)"
   ]
  },
  {
   "cell_type": "markdown",
   "metadata": {},
   "source": [
    "check result on a random image previously shown "
   ]
  },
  {
   "cell_type": "code",
   "execution_count": 11,
   "metadata": {},
   "outputs": [
    {
     "data": {
      "image/png": "[encoded data removed]",
      "text/plain": [
       "<Figure size 432x288 with 1 Axes>"
      ]
     },
     "metadata": {},
     "output_type": "display_data"
    },
    {
     "name": "stdout",
     "output_type": "stream",
     "text": [
      "True Value: 3\n",
      "Value ==  3 : True\n"
     ]
    }
   ],
   "source": [
    "rand_int_pred = sgd_clf.predict([X[rand_idx]])\n",
    "plotImage(X, rand_idx)\n",
    "print('True Value:', rand_int)\n",
    "print('Value == ', rand_int,':', rand_int_pred[0])"
   ]
  },
  {
   "cell_type": "markdown",
   "metadata": {},
   "source": [
    "### Evaluate classifer performance with confusion matrix\n",
    "<br>\n",
    "<br>\n",
    "$$ Precision = \\frac{TP}{TP + FP}$$\n",
    "<br>\n",
    "<br>\n",
    "$$ Recall = \\frac{TP}{TP + FN}$$\n",
    "<br>\n",
    "<br>\n",
    "$$ F1 = \\frac {2} {\\frac{1}{precision} + \\frac{1}{recall}} = 2\\times \\frac {precision  \\times  recall}{precision +recall} = \\frac{TP}{TP + {\\frac{FN + FP} {2}}}$$\n",
    "\n",
    "where: \n",
    "* TP = True Positive \n",
    "* FP = False Positive\n",
    "* FN = False Negative \n",
    "\n",
    "F1 is is the harmonic mean of precision and recall "
   ]
  },
  {
   "cell_type": "code",
   "execution_count": 12,
   "metadata": {},
   "outputs": [],
   "source": [
    "from sklearn.model_selection import cross_val_predict \n",
    "y_train_pred_sgd = cross_val_predict(sgd_clf, X_train, y_train_rnd, cv=3)"
   ]
  },
  {
   "cell_type": "code",
   "execution_count": 13,
   "metadata": {},
   "outputs": [
    {
     "data": {
      "text/plain": [
       "array([[49793,   483],\n",
       "       [ 1001,  4723]])"
      ]
     },
     "execution_count": 13,
     "metadata": {},
     "output_type": "execute_result"
    }
   ],
   "source": [
    "from sklearn.metrics import confusion_matrix\n",
    "confusion_matrix(y_train_rnd, y_train_pred_sgd)"
   ]
  },
  {
   "cell_type": "code",
   "execution_count": 14,
   "metadata": {},
   "outputs": [],
   "source": [
    "def computeScore(true_values, predicted_values):\n",
    "    from sklearn.metrics import precision_score, recall_score, f1_score\n",
    "    p = precision_score(true_values, predicted_values)\n",
    "    r = recall_score(true_values, predicted_values)\n",
    "    f1 = f1_score(true_values, predicted_values)\n",
    "    print('Precision:', \"%.3f\" %p)\n",
    "    print('Recall:', \"%.3f\" %r)\n",
    "    print('F1:', \"%.3f\" %f1)"
   ]
  },
  {
   "cell_type": "code",
   "execution_count": 15,
   "metadata": {},
   "outputs": [
    {
     "name": "stdout",
     "output_type": "stream",
     "text": [
      "Precision: 0.907\n",
      "Recall: 0.825\n",
      "F1: 0.864\n"
     ]
    }
   ],
   "source": [
    "computeScore(y_train_rnd, y_train_pred_sgd)"
   ]
  },
  {
   "cell_type": "markdown",
   "metadata": {},
   "source": [
    "## ROC Curve\n",
    "visualize false postive rate vs true postive rate"
   ]
  },
  {
   "cell_type": "code",
   "execution_count": 16,
   "metadata": {},
   "outputs": [],
   "source": [
    "y_scores_sgd = cross_val_predict(sgd_clf, X_train, y_train_rnd, cv=3, method='decision_function')"
   ]
  },
  {
   "cell_type": "code",
   "execution_count": 17,
   "metadata": {},
   "outputs": [],
   "source": [
    "from sklearn.metrics import roc_curve \n",
    "fpr_sgd, tpr_sgd, threshold_sgd = roc_curve(y_train_rnd, y_scores_sgd) "
   ]
  },
  {
   "cell_type": "code",
   "execution_count": 18,
   "metadata": {},
   "outputs": [],
   "source": [
    "def plotROCCurve(fpr, tpr, label=None):\n",
    "    plt.plot(fpr, tpr, linewidth=2, label=label)\n",
    "    plt.plot([0,1], [0,1], 'k--')\n",
    "    plt.axis([0,1,0,1])\n",
    "    plt.xlim([-0.01,1.01])\n",
    "    plt.ylim([-0.01,1.01])\n",
    "    plt.xlabel('False Postive Rate')\n",
    "    plt.ylabel('True Postive Rate')"
   ]
  },
  {
   "cell_type": "markdown",
   "metadata": {},
   "source": [
    "Compute area under roc curve (AUC) as measure of classifier performance"
   ]
  },
  {
   "cell_type": "markdown",
   "metadata": {},
   "source": [
    "### Try Random Forest Classification"
   ]
  },
  {
   "cell_type": "code",
   "execution_count": 19,
   "metadata": {},
   "outputs": [],
   "source": [
    "from sklearn.ensemble import RandomForestClassifier\n",
    "forest_clf = RandomForestClassifier(random_state=42)\n",
    "y_prob_forest = cross_val_predict(forest_clf, X_train, y_train_rnd,cv=3, method='predict_proba')"
   ]
  },
  {
   "cell_type": "code",
   "execution_count": 20,
   "metadata": {},
   "outputs": [],
   "source": [
    "y_scores_forest = y_prob_forest[:,1]\n",
    "fpr_forest, tpr_forest, thresholds_forest = roc_curve(y_train_rnd, y_scores_forest) "
   ]
  },
  {
   "cell_type": "markdown",
   "metadata": {},
   "source": [
    "Compare results"
   ]
  },
  {
   "cell_type": "code",
   "execution_count": 21,
   "metadata": {},
   "outputs": [
    {
     "data": {
      "image/png": "[encoded data removed]",
      "text/plain": [
       "<Figure size 432x432 with 1 Axes>"
      ]
     },
     "metadata": {},
     "output_type": "display_data"
    }
   ],
   "source": [
    "plt.figure(figsize=(6, 6))\n",
    "plotROCCurve(fpr_sgd, tpr_sgd, 'SGD')\n",
    "plotROCCurve(fpr_forest, tpr_forest, 'Random Forest')\n",
    "plt.show()"
   ]
  },
  {
   "cell_type": "code",
   "execution_count": 22,
   "metadata": {},
   "outputs": [
    {
     "name": "stdout",
     "output_type": "stream",
     "text": [
      "Area Under ROC Curve SGD:  0.976\n",
      "Area Under ROC Curve RFC:  0.996\n"
     ]
    }
   ],
   "source": [
    "from sklearn.metrics import roc_auc_score\n",
    "roc_auc_sgd = roc_auc_score(y_train_rnd, y_scores_sgd)\n",
    "roc_auc_forest = roc_auc_score(y_train_rnd, y_scores_forest)\n",
    "print('Area Under ROC Curve SGD: ', '%0.3f' % roc_auc_sgd)\n",
    "print('Area Under ROC Curve RFC: ', '%0.3f' % roc_auc_forest)"
   ]
  },
  {
   "cell_type": "code",
   "execution_count": 23,
   "metadata": {},
   "outputs": [],
   "source": [
    "y_train_pred_forest = y_train_rnd\n",
    "for i in range(0,len(y_train_pred_forest)):\n",
    "    y_train_pred_forest[i] = bool(y_prob_forest[i,0] < y_prob_forest[i, 1])"
   ]
  },
  {
   "cell_type": "code",
   "execution_count": 24,
   "metadata": {},
   "outputs": [
    {
     "name": "stdout",
     "output_type": "stream",
     "text": [
      "Precision: 1.000\n",
      "Recall: 1.000\n",
      "F1: 1.000\n"
     ]
    }
   ],
   "source": [
    "computeScore(y_train_rnd, y_train_pred_forest)"
   ]
  },
  {
   "cell_type": "markdown",
   "metadata": {},
   "source": [
    "random forest classifer is perofrming better than stochastic gradient descent "
   ]
  },
  {
   "cell_type": "markdown",
   "metadata": {},
   "source": [
    "## Multiclass Classification using RandomForestClassifier "
   ]
  }
 ],
 "metadata": {
  "kernelspec": {
   "display_name": "Python 3",
   "language": "python",
   "name": "python3"
  },
  "language_info": {
   "codemirror_mode": {
    "name": "ipython",
    "version": 3
   },
   "file_extension": ".py",
   "mimetype": "text/x-python",
   "name": "python",
   "nbconvert_exporter": "python",
   "pygments_lexer": "ipython3",
   "version": "3.7.6"
  }
 },
 "nbformat": 4,
 "nbformat_minor": 4
}
